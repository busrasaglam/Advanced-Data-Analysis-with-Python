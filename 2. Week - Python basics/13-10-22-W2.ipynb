{
 "cells": [
  {
   "cell_type": "markdown",
   "id": "89af636f-7d0c-4e82-a50a-cf60cce4edd8",
   "metadata": {},
   "source": [
    "# List\n",
    "Python'da farklı data tipleri: List, Dictionary, Get, ....\n",
    "\n",
    "Liste sıralı bir şekilde içine atılan değerleri tutar. Sıralı olması listenin en önemli özelliği.\n"
   ]
  },
  {
   "cell_type": "markdown",
   "id": "c091d58a-6ce6-4fac-b097-82104f842c9a",
   "metadata": {
    "tags": []
   },
   "source": [
    "## Exercise (List)"
   ]
  },
  {
   "cell_type": "code",
   "execution_count": 9,
   "id": "85d1aaa7-2524-4909-8633-4c4d3c065557",
   "metadata": {},
   "outputs": [
    {
     "name": "stdout",
     "output_type": "stream",
     "text": [
      "52\n",
      "maximum: 23\n",
      "minimum: 3\n",
      "minimum:\n",
      "3\n",
      "maximum:\n",
      "23\n"
     ]
    }
   ],
   "source": [
    "x = [3, 4, 5, 17, 23]\n",
    "\n",
    "total = sum(x)\n",
    "\n",
    "print(total)\n",
    "print('maximum:', max(x))\n",
    "print('minimum:',min(x))\n",
    " \n",
    "print('minimum:', min(x), 'maximum:', max(x), sep = \"\\n\")\n",
    "\n"
   ]
  },
  {
   "cell_type": "code",
   "execution_count": 14,
   "id": "d5579adb-8f32-40cd-8f8b-6545952c2926",
   "metadata": {},
   "outputs": [
    {
     "name": "stdout",
     "output_type": "stream",
     "text": [
      "[1, 2, 3, 4, 5, 6, 7, 8, 9]\n",
      "[1, 3, 5, 7, 9]\n"
     ]
    }
   ],
   "source": [
    "x = [*range(1,10,1)]\n",
    "\n",
    "print(x)\n",
    "\n",
    "y = [*range(1,10,2)]\n",
    "\n",
    "print(y)"
   ]
  },
  {
   "cell_type": "markdown",
   "id": "36d2b3c3-9c64-47b4-8aae-19319ad1c03a",
   "metadata": {},
   "source": [
    "## Exercise (Dictionaries)"
   ]
  },
  {
   "cell_type": "code",
   "execution_count": 31,
   "id": "3bf926d1-9e88-4cfc-8208-1e4cae676fc4",
   "metadata": {},
   "outputs": [
    {
     "name": "stdout",
     "output_type": "stream",
     "text": [
      "Twin Peaks\n",
      "1991\n",
      "{'name': 'Twin Peaks', 'director': 'David Lynch', 'year': 1991, 'genre': 'mystery/drama/horror'}\n",
      "{'name': 'Twin Peaks', 'director': 'David Lynch', 'year': 1991}\n"
     ]
    }
   ],
   "source": [
    "Movie = {\n",
    "    'name':'Twin Peaks',\n",
    "    'director':'David Lynch',\n",
    "    'year':1990\n",
    "} \n",
    "\n",
    "\n",
    "print(Movie.get(\"name\"))\n",
    "Movie.update({'year':1991})\n",
    "print(Movie.get(\"year\"))\n",
    "\n",
    "Movie.update({'genre':'mystery/drama/horror'})\n",
    "print(Movie)\n",
    "\n",
    "Movie.pop(\"genre\")\n",
    "print(Movie)\n",
    "\n"
   ]
  },
  {
   "cell_type": "markdown",
   "id": "b300ccc5-4781-4674-b5ef-65e41b898ee6",
   "metadata": {},
   "source": [
    "## Exercise (If Statements and Loops)"
   ]
  },
  {
   "cell_type": "code",
   "execution_count": 37,
   "id": "676d72ff-2f05-43a8-b7ca-417fc70a1cc5",
   "metadata": {},
   "outputs": [
    {
     "name": "stdout",
     "output_type": "stream",
     "text": [
      "4 3\n"
     ]
    }
   ],
   "source": [
    "sample_list = [2, 3, 4, 5, 8, 2, 9]\n",
    "even_count = 0\n",
    "odd_count = 0\n",
    "\n",
    "for i in sample_list:\n",
    "    if i%2 == 0:\n",
    "        even_count = even_count +1\n",
    "    else: \n",
    "        odd_count = odd_count +1\n",
    "            \n",
    "            \n",
    "print(even_count, odd_count)"
   ]
  },
  {
   "cell_type": "code",
   "execution_count": 38,
   "id": "a9faa6b0-0e2d-41e2-a3b2-9000d5abfcd2",
   "metadata": {},
   "outputs": [],
   "source": [
    "# write a program to get the Fibonacci series between 0 to 50. "
   ]
  },
  {
   "cell_type": "code",
   "execution_count": 48,
   "id": "c85cf099-6c1b-4f91-85dc-12268746dc87",
   "metadata": {},
   "outputs": [
    {
     "name": "stdout",
     "output_type": "stream",
     "text": [
      "[0, 1, 1, 2, 3, 5, 8, 13, 21, 34, 55, 89, 144, 233, 377, 610, 987, 1597, 2584, 4181, 6765, 10946, 17711, 28657, 46368, 75025, 121393, 196418, 317811, 514229, 832040, 1346269, 2178309, 3524578, 5702887, 9227465, 14930352, 24157817, 39088169, 63245986, 102334155, 165580141, 267914296, 433494437, 701408733, 1134903170, 1836311903, 2971215073, 4807526976, 7778742049, 12586269025, 20365011074]\n"
     ]
    }
   ],
   "source": [
    "fib = [*range(2)]\n",
    "\n",
    "fib1 = fib[0]\n",
    "fib2 = fib[1]\n",
    "\n",
    "for i in range(50):\n",
    "    fib.append(fib1 + fib2)\n",
    "    fib1 = fib[i+1]\n",
    "    fib2 = fib[i+2]\n",
    "    \n",
    "print(fib)"
   ]
  },
  {
   "cell_type": "code",
   "execution_count": 63,
   "id": "d7ea2e1d-8f55-4b26-83df-ad1d761737e3",
   "metadata": {},
   "outputs": [],
   "source": [
    "# 3- Note these are the \"list\" exercises. Solve these, by using if statements and loops:"
   ]
  },
  {
   "cell_type": "code",
   "execution_count": 60,
   "id": "6a7481d0-6629-4127-8b0b-0c1ca870ffa0",
   "metadata": {},
   "outputs": [
    {
     "name": "stdout",
     "output_type": "stream",
     "text": [
      "43\n"
     ]
    }
   ],
   "source": [
    "# 3.a. Write a Python program to sum all the items in a list.\n",
    "\n",
    "a = [1, 2, 3, 4, 5, 6, 7, 10, 5]\n",
    "\n",
    "total = 0\n",
    "\n",
    "for i in a:\n",
    "    total = total + i\n",
    "    \n",
    "print (total)"
   ]
  },
  {
   "cell_type": "code",
   "execution_count": 3,
   "id": "8ef3eca1-c477-44a2-a269-d1a7b52ba1b0",
   "metadata": {},
   "outputs": [
    {
     "name": "stdout",
     "output_type": "stream",
     "text": [
      "10\n"
     ]
    }
   ],
   "source": [
    "# 3.b. Write a Python program to get the largest and the smallest number from a list.\n",
    "\n",
    "a = [1, 2, 3, 4, 5, 6, 7, 10, 5]\n",
    "\n",
    "maximum = a[0]\n",
    "\n",
    "for i in a:\n",
    "    if maximum < i:\n",
    "        maximum = i\n",
    "    else:\n",
    "        continue\n",
    "        \n",
    "        \n",
    "print(maximum)\n"
   ]
  },
  {
   "cell_type": "code",
   "execution_count": 7,
   "id": "f1c8418d",
   "metadata": {},
   "outputs": [
    {
     "name": "stdout",
     "output_type": "stream",
     "text": [
      "-15\n"
     ]
    }
   ],
   "source": [
    "a = [1, 2, 3, 4, 5, 6, 7, 10, 5, -15]\n",
    "\n",
    "minimum = a[0]\n",
    "\n",
    "for i in a:\n",
    "    if minimum > i:\n",
    "        minimum = i\n",
    "    else:\n",
    "        continue\n",
    "        \n",
    "        \n",
    "print(minimum)"
   ]
  },
  {
   "cell_type": "code",
   "execution_count": 64,
   "id": "74023aaa-1e0c-40c8-980c-045945050c43",
   "metadata": {},
   "outputs": [
    {
     "name": "stdout",
     "output_type": "stream",
     "text": [
      "[0, 1, 2, 3, 4, 5, 6, 7, 8, 9]\n"
     ]
    }
   ],
   "source": [
    "# 3.c. Create a list of integer nember less than 10 and call \n",
    "\n",
    "x = []\n",
    "\n",
    "for i in range(10):\n",
    "    x.append(i)\n",
    "    \n",
    "print(x)"
   ]
  },
  {
   "cell_type": "code",
   "execution_count": 65,
   "id": "3f604e18-559d-4570-acdf-f3e2fec07619",
   "metadata": {},
   "outputs": [
    {
     "name": "stdout",
     "output_type": "stream",
     "text": [
      "10\n",
      "20\n",
      "30\n",
      "40\n",
      "50\n"
     ]
    }
   ],
   "source": [
    "# example for while\n",
    "\n",
    "i = 0\n",
    "\n",
    "while i < 5:\n",
    "    i = i+1\n",
    "    \n",
    "    print(10*i)"
   ]
  },
  {
   "cell_type": "code",
   "execution_count": 12,
   "id": "5c86fd38",
   "metadata": {},
   "outputs": [
    {
     "name": "stdout",
     "output_type": "stream",
     "text": [
      "How old are you?\n"
     ]
    },
    {
     "ename": "ValueError",
     "evalue": "could not convert string to float: 'five'",
     "output_type": "error",
     "traceback": [
      "\u001b[0;31m---------------------------------------------------------------------------\u001b[0m",
      "\u001b[0;31mValueError\u001b[0m                                Traceback (most recent call last)",
      "Cell \u001b[0;32mIn [12], line 2\u001b[0m\n\u001b[1;32m      1\u001b[0m \u001b[39mprint\u001b[39m(\u001b[39m\"\u001b[39m\u001b[39mHow old are you?\u001b[39m\u001b[39m\"\u001b[39m) \n\u001b[0;32m----> 2\u001b[0m age \u001b[39m=\u001b[39m \u001b[39mfloat\u001b[39;49m(\u001b[39minput\u001b[39;49m()) \u001b[39m#What if we don't include float function\u001b[39;00m\n\u001b[1;32m      3\u001b[0m \u001b[39mprint\u001b[39m (\u001b[39m\"\u001b[39m\u001b[39mHow tall are you?\u001b[39m\u001b[39m\"\u001b[39m)\n\u001b[1;32m      4\u001b[0m height \u001b[39m=\u001b[39m \u001b[39mfloat\u001b[39m(\u001b[39minput\u001b[39m())\n",
      "\u001b[0;31mValueError\u001b[0m: could not convert string to float: 'five'"
     ]
    }
   ],
   "source": [
    "print(\"How old are you?\") \n",
    "age = float(input()) #What if we don't include float function\n",
    "print (\"How tall are you?\")\n",
    "height = float(input())\n",
    "print (\"How much do you weigh?\")\n",
    "weight = float(input())\n",
    "\n",
    "print (\"So, you're %f old, %f tall and %f heavy.\" % (age*height, height, weight))\n",
    "print(f\"You are {age*height} old, {height} tall and {weight} heavy.\")"
   ]
  },
  {
   "cell_type": "code",
   "execution_count": 13,
   "id": "7175bfbc-effb-40c5-bcb8-0fd63d184a83",
   "metadata": {},
   "outputs": [
    {
     "name": "stdout",
     "output_type": "stream",
     "text": [
      "Hello lovely Büşra.\n",
      "You are the best!\n"
     ]
    }
   ],
   "source": [
    "def greeting(name): # function header\n",
    "    # docstring: explanation of what function is about. for example here:\n",
    "    \"\"\"Returns a greeting given a name.\"\"\"\n",
    "    #----- body of the function ----#\n",
    "    message = \"Hello lovely \" + name + \".\\n\"\n",
    "    message = message + \"You are the best!\"\n",
    "    #----------------------------------#\n",
    "    return message # return statement\n",
    "\n",
    "print(greeting('Büşra'))"
   ]
  },
  {
   "cell_type": "code",
   "execution_count": 15,
   "id": "e03b6d22-c305-45d7-a9fb-a6776f913064",
   "metadata": {},
   "outputs": [
    {
     "name": "stdout",
     "output_type": "stream",
     "text": [
      "22\n"
     ]
    }
   ],
   "source": [
    "def sum_two_number(a,b):\n",
    "    \"\"\"Returns sum of two values\"\"\"\n",
    "    return a + b\n",
    "print(sum_two_number(10,12))"
   ]
  },
  {
   "cell_type": "code",
   "execution_count": 19,
   "id": "a8e9cbc4-fd01-4647-9ed7-48645dae9d03",
   "metadata": {},
   "outputs": [
    {
     "name": "stdout",
     "output_type": "stream",
     "text": [
      "1000\n"
     ]
    }
   ],
   "source": [
    "# benim denemelerim functions exercise week 2 exercise 1\n",
    "\n",
    "def maximum_number(a, b, c, d):\n",
    "    \"\"\"Returns max of three numbers.\"\"\"\n",
    "    if a > b and a > c and a > d:\n",
    "        return a\n",
    "    elif b > a and b > c and b > d:\n",
    "        return b\n",
    "    elif c > a and c > b and c > d:\n",
    "        return c\n",
    "    elif d > a and d > b and d > c:\n",
    "        return d\n",
    "    \n",
    "print(maximum_number(22,-46,13, 1000))"
   ]
  },
  {
   "cell_type": "code",
   "execution_count": 1,
   "id": "f2a53de0",
   "metadata": {},
   "outputs": [
    {
     "name": "stdout",
     "output_type": "stream",
     "text": [
      "27\n"
     ]
    }
   ],
   "source": [
    "# derste yapılan örnek\n",
    "\n",
    "def maximum_of_three(a,b,c):\n",
    "    x = max(a,b)\n",
    "    y = max(x,c)\n",
    "    return y\n",
    "\n",
    "print(maximum_of_three(27,3,4))    "
   ]
  },
  {
   "cell_type": "code",
   "execution_count": 36,
   "id": "1f169c30-15cd-4a43-8ead-5725d50c9614",
   "metadata": {},
   "outputs": [
    {
     "name": "stdout",
     "output_type": "stream",
     "text": [
      "48\n"
     ]
    }
   ],
   "source": [
    "# benim denemelerim functions exercise week 2 exercise 2\n",
    "\n",
    "sample_list = [8, 2, 3]\n",
    "\n",
    "def multiply_all(given_list):\n",
    "    \"\"\"multiplies all numbers in a given list\"\"\"\n",
    "    total = 1\n",
    "\n",
    "    for i in given_list:\n",
    "        total = total*i\n",
    "        \n",
    "    return total\n",
    "        \n",
    "print(multiply_all(sample_list))\n"
   ]
  },
  {
   "cell_type": "code",
   "execution_count": 21,
   "id": "2a4debeb-6ab6-4a2e-bb74-bbc73a6e2b1e",
   "metadata": {},
   "outputs": [
    {
     "name": "stdout",
     "output_type": "stream",
     "text": [
      "[1, 3, 4, 5, 7, 9]\n"
     ]
    }
   ],
   "source": [
    "# benim denemelerim functions exercise week 2 exercise 3\n",
    "sample_list = [1,1,3,3,3,3,4,4,4,5,7,7,7,9 ,9]\n",
    "\n",
    "def un_list (given_list):\n",
    "    \"\"\"gives a unique list\"\"\"\n",
    "    unique_list = []\n",
    "\n",
    "    for i in given_list:\n",
    "        if unique_list.count(i) == 0:\n",
    "            unique_list.append(i)\n",
    "    return unique_list\n",
    "\n",
    "print(un_list(sample_list))"
   ]
  },
  {
   "cell_type": "code",
   "execution_count": 7,
   "id": "c2b9dd59",
   "metadata": {},
   "outputs": [
    {
     "ename": "TypeError",
     "evalue": "list.count() takes exactly one argument (0 given)",
     "output_type": "error",
     "traceback": [
      "\u001b[0;31m---------------------------------------------------------------------------\u001b[0m",
      "\u001b[0;31mTypeError\u001b[0m                                 Traceback (most recent call last)",
      "Cell \u001b[0;32mIn [7], line 16\u001b[0m\n\u001b[1;32m     12\u001b[0m     \u001b[39mreturn\u001b[39;00m  dynamic_list\n\u001b[1;32m     14\u001b[0m sample_list \u001b[39m=\u001b[39m [\u001b[39m1\u001b[39m,\u001b[39m1\u001b[39m,\u001b[39m3\u001b[39m,\u001b[39m3\u001b[39m,\u001b[39m3\u001b[39m,\u001b[39m3\u001b[39m,\u001b[39m4\u001b[39m,\u001b[39m4\u001b[39m,\u001b[39m4\u001b[39m,\u001b[39m5\u001b[39m,\u001b[39m7\u001b[39m,\u001b[39m7\u001b[39m,\u001b[39m7\u001b[39m,\u001b[39m9\u001b[39m ,\u001b[39m9\u001b[39m]\n\u001b[0;32m---> 16\u001b[0m \u001b[39mprint\u001b[39m(unique(sample_list))\n",
      "Cell \u001b[0;32mIn [7], line 7\u001b[0m, in \u001b[0;36munique\u001b[0;34m(my_list)\u001b[0m\n\u001b[1;32m      4\u001b[0m dynamic_list \u001b[39m=\u001b[39m my_list\u001b[39m.\u001b[39mcopy()\n\u001b[1;32m      6\u001b[0m \u001b[39mfor\u001b[39;00m ele \u001b[39min\u001b[39;00m my_list:\n\u001b[0;32m----> 7\u001b[0m     \u001b[39mif\u001b[39;00m dynamic_list\u001b[39m.\u001b[39;49mcount() \u001b[39m>\u001b[39m \u001b[39m1\u001b[39m:\n\u001b[1;32m      8\u001b[0m         dynamic_list\u001b[39m.\u001b[39mremove(ele)\n\u001b[1;32m      9\u001b[0m     \u001b[39melse\u001b[39;00m:\n",
      "\u001b[0;31mTypeError\u001b[0m: list.count() takes exactly one argument (0 given)"
     ]
    }
   ],
   "source": [
    "# derste yapılan örnek\n",
    "\n",
    "def unique(my_list):\n",
    "    dynamic_list = my_list.copy()\n",
    "\n",
    "    for ele in my_list:\n",
    "        if dynamic_list.count() > 1:\n",
    "            dynamic_list.remove(ele)\n",
    "        else:\n",
    "            continue\n",
    "    \n",
    "    return  dynamic_list\n",
    "\n",
    "sample_list = [1,1,3,3,3,3,4,4,4,5,7,7,7,9 ,9]\n",
    "\n",
    "print(unique(sample_list))"
   ]
  },
  {
   "cell_type": "code",
   "execution_count": 25,
   "id": "74fc34be",
   "metadata": {},
   "outputs": [
    {
     "name": "stdout",
     "output_type": "stream",
     "text": [
      "[5]\n"
     ]
    }
   ],
   "source": [
    "sample_list = [1,1,3,3,3,3,4,4,4,5,7,7,7,9 ,9]\n",
    "\n",
    "def find_unique(given_list):\n",
    "    \"\"\"gives the unique numbers in a given list\"\"\"\n",
    "    unique_numbers = []\n",
    "\n",
    "    for i in given_list:\n",
    "        if given_list.count(i)==1:\n",
    "            unique_numbers.append(i)\n",
    "        else:\n",
    "            continue\n",
    "\n",
    "    return(unique_numbers)\n",
    "\n",
    "print(find_unique(sample_list))\n",
    "\n",
    "\n"
   ]
  },
  {
   "cell_type": "code",
   "execution_count": 29,
   "id": "fff3e417-c5d7-467a-897a-3860a4066157",
   "metadata": {},
   "outputs": [
    {
     "name": "stdout",
     "output_type": "stream",
     "text": [
      "407 is not a prime number\n",
      "11 times 37 is 407\n"
     ]
    }
   ],
   "source": [
    "# benim denemelerim functions exercise week 2 exercise 4\n",
    "# Program to check if a number is prime or not\n",
    "\n",
    "num = 407\n",
    "\n",
    "# To take input from the user\n",
    "#num = int(input(\"Enter a number: \"))\n",
    "\n",
    "# prime numbers are greater than 1\n",
    "if num > 1:\n",
    "   # check for factors\n",
    "   for i in range(2,num):\n",
    "       if (num % i) == 0:\n",
    "           print(num,\"is not a prime number\")\n",
    "           print(i,\"times\",num//i,\"is\",num)\n",
    "           break\n",
    "   else:\n",
    "       print(num,\"is a prime number\")\n",
    "       \n",
    "# if input number is less than\n",
    "# or equal to 1, it is not prime\n",
    "else:\n",
    "   print(num,\"is not a prime number\")"
   ]
  },
  {
   "cell_type": "code",
   "execution_count": 3,
   "id": "7bca5d29",
   "metadata": {},
   "outputs": [
    {
     "name": "stdin",
     "output_type": "stream",
     "text": [
      "Enter a number: 407\n"
     ]
    },
    {
     "name": "stdout",
     "output_type": "stream",
     "text": [
      "407 is prime.\n"
     ]
    }
   ],
   "source": [
    "## son hali bu \n",
    "\n",
    "def prime_num(num):\n",
    "    \n",
    "    num = int(input(\"Enter a number:\"))\n",
    "\n",
    "    \n",
    "    if num > 1:\n",
    "        for i in range(2, num):\n",
    "            if (num % i)==0:\n",
    "                message = f\"The number is not prime. {num} is not a prime number. {i} times {num//i} is {num}\"\n",
    "\n",
    "                return message\n",
    "                break\n",
    "            else:\n",
    "                \n",
    "                message = f\"{num} is prime.\"\n",
    "                \n",
    "                return message   \n",
    "    else:\n",
    "        message = \"The number is not prime.\"\n",
    "        return message  \n",
    "\n",
    "print(prime_num(407))        \n"
   ]
  },
  {
   "cell_type": "code",
   "execution_count": 1,
   "id": "fc3ea829",
   "metadata": {},
   "outputs": [
    {
     "name": "stdout",
     "output_type": "stream",
     "text": [
      "False\n"
     ]
    }
   ],
   "source": [
    "# derste yapılan hali\n",
    "\n",
    "from operator import is_\n",
    "\n",
    "\n",
    "def is_prime(x):    \n",
    "    if x == 1:\n",
    "        is_prime = False\n",
    "    elif x == 2:\n",
    "        is_prime = True\n",
    "    else:\n",
    "        for i in range(2,x):\n",
    "            if x%i == 0:\n",
    "                is_prime = False\n",
    "                break\n",
    "            else:\n",
    "                is_prime = True\n",
    "\n",
    "    return is_prime \n",
    "\n",
    "print(is_prime(21))                  "
   ]
  },
  {
   "cell_type": "code",
   "execution_count": 2,
   "id": "0b007b2a-ced5-4d6f-a096-a2e36df68eba",
   "metadata": {},
   "outputs": [
    {
     "name": "stdin",
     "output_type": "stream",
     "text": [
      "Enter a number: 28\n"
     ]
    },
    {
     "name": "stdout",
     "output_type": "stream",
     "text": [
      "28 is not a prime number. 2 times 14 is 28\n"
     ]
    }
   ],
   "source": [
    "num = int(input(\"Enter a number:\"))\n",
    "\n",
    "def prime(number):\n",
    "    \"\"\"checks if the given number is prime or not.\"\"\"\n",
    "    \n",
    "    if num <=0:\n",
    "        message = \"Please enter a number higher than 1.\"\n",
    "        return message\n",
    "    \n",
    "    if num > 1:\n",
    "        for i in range(2, num):\n",
    "            if (num%i) == 0:\n",
    "                return f\"{num} is not a prime number. {i} times {num//i} is {num}\"\n",
    "                break \n",
    "            else:\n",
    "                return f\"{num} is a prime number.\" \n",
    "        \n",
    "print(prime(num))\n",
    "\n",
    "# sonuçta none da basıyor. neden none basıyor? return print yaptığım için. \n",
    "# return'den sonra dirket f\"{num} is prime number.\""
   ]
  },
  {
   "cell_type": "code",
   "execution_count": 100,
   "id": "e226ec9b-4050-4c01-9b2d-fbe58e12d236",
   "metadata": {},
   "outputs": [],
   "source": [
    "# files\n",
    "\n",
    "filename = 'example.txt'\n",
    "\n",
    "f = open(filename, 'w')\n",
    "f.write(\"Six words story:\\n\")\n",
    "f.write(\"For sale: Baby shoes, never worn.\")\n",
    "f.close()"
   ]
  },
  {
   "cell_type": "code",
   "execution_count": 4,
   "id": "7b773228",
   "metadata": {},
   "outputs": [],
   "source": [
    "# define the file name\n",
    "filename = 'example.txt' \n",
    "# create and open the file to modify. 'w' stands for writing mode.\n",
    "f = open(filename, 'w')\n",
    "# write in the open file f\n",
    "f.write(\"6 words story:\\nFor sale: baby shoes, never worn.\")\n",
    "# close the file\n",
    "f.close()"
   ]
  },
  {
   "cell_type": "code",
   "execution_count": 43,
   "id": "3e972065-e67c-49b1-91af-3a42f3a8b84c",
   "metadata": {},
   "outputs": [
    {
     "name": "stdout",
     "output_type": "stream",
     "text": [
      "6 words story:\n",
      "For sale: baby shoes, never worn.\n"
     ]
    }
   ],
   "source": [
    "filename = 'example.txt'\n",
    "f = open(filename, 'r')\n",
    "data = f.read()\n",
    "f.close()\n",
    "\n",
    "print(data)\n",
    "\n"
   ]
  },
  {
   "cell_type": "code",
   "execution_count": 107,
   "id": "f271979e-4e8d-4604-a74d-7636c4e4334c",
   "metadata": {},
   "outputs": [
    {
     "name": "stdout",
     "output_type": "stream",
     "text": [
      "['For', 'sale:', 'Baby', 'shoes,', 'never', 'worn.']\n",
      "6\n"
     ]
    }
   ],
   "source": [
    "data.splitlines()\n",
    "\n",
    "second_line = data.splitlines()[1]\n",
    "words_second_line = second_line.split(' ')\n",
    "print(words_second_line)\n",
    "print(len(words_second_line))"
   ]
  }
 ],
 "metadata": {
  "kernelspec": {
   "display_name": "Python 3 (ipykernel)",
   "language": "python",
   "name": "python3"
  },
  "language_info": {
   "codemirror_mode": {
    "name": "ipython",
    "version": 3
   },
   "file_extension": ".py",
   "mimetype": "text/x-python",
   "name": "python",
   "nbconvert_exporter": "python",
   "pygments_lexer": "ipython3",
   "version": "3.9.12"
  },
  "vscode": {
   "interpreter": {
    "hash": "0114906a64b06ad436fdf539badbc5c6597619ab24901439a92e57c98b32fe7b"
   }
  }
 },
 "nbformat": 4,
 "nbformat_minor": 5
}
