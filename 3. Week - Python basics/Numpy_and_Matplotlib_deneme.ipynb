{
  "cells": [
    {
      "cell_type": "markdown",
      "metadata": {
        "id": "view-in-github",
        "colab_type": "text"
      },
      "source": [
        "<a href=\"https://colab.research.google.com/github/busrasaglam/Advanced-Data-Analysis-with-Python/blob/main/3.%20Week%20-%20Python%20basics/Numpy_and_Matplotlib_deneme.ipynb\" target=\"_parent\"><img src=\"https://colab.research.google.com/assets/colab-badge.svg\" alt=\"Open In Colab\"/></a>"
      ]
    },
    {
      "cell_type": "markdown",
      "metadata": {
        "id": "TXQNWNPeDzuF"
      },
      "source": [
        "# Introduction to Scientific Programming in Python - 2"
      ]
    },
    {
      "cell_type": "markdown",
      "metadata": {
        "id": "vteU59bF-oR_"
      },
      "source": [
        "Created by Vahid Rostami. Accessed via Social ComQuant project https://socialcomquant.ku.edu.tr/,\n",
        "\n",
        "and revised by M.Fuat Kına."
      ]
    },
    {
      "cell_type": "markdown",
      "metadata": {
        "id": "dO4KDBceDzuG"
      },
      "source": [
        "Important functions that are frequently used are stored in libraries. In this second day we will introduce two importan python libraries, namely **Numpy** and **Matplotlib**"
      ]
    },
    {
      "cell_type": "markdown",
      "metadata": {
        "id": "L0aZvaKjgfw9"
      },
      "source": [
        "## Numpy"
      ]
    },
    {
      "cell_type": "markdown",
      "metadata": {
        "id": "fwW6O4VegfNM"
      },
      "source": [
        "Numpy (Numerical Python) is a core library in Python for numerical calculation. It consists of multidimensional arrays and a rich collection of methods for applying mathematical operations on those arrays."
      ]
    },
    {
      "cell_type": "code",
      "execution_count": null,
      "metadata": {
        "id": "M81wP12B-oSB"
      },
      "outputs": [],
      "source": [
        "# Let's look at nested lists\n",
        "\n",
        "my_list = [1,2,5,[0,1],[2,3,5]]"
      ]
    },
    {
      "cell_type": "code",
      "execution_count": null,
      "metadata": {
        "id": "c8aHJXih-oSC"
      },
      "outputs": [],
      "source": [
        "my_list[4][0]"
      ]
    },
    {
      "cell_type": "markdown",
      "metadata": {
        "id": "kFkbdNg9kR-G"
      },
      "source": [
        "### Numpy Arrays"
      ]
    },
    {
      "cell_type": "markdown",
      "metadata": {
        "id": "Ham1irnhkVYd"
      },
      "source": [
        "Numpy arrays are great alternatives to Python Lists. Specifically for scientific computing and numerical calculation numpy arrays are much easier to handle and do computation. \n",
        "\n",
        "How to create a numpy array:"
      ]
    },
    {
      "cell_type": "code",
      "execution_count": null,
      "metadata": {
        "colab": {
          "base_uri": "https://localhost:8080/"
        },
        "id": "w8BlLsaqhXSS",
        "outputId": "a26e04d2-9996-4746-fd56-f1c0d981450e"
      },
      "outputs": [
        {
          "name": "stdout",
          "output_type": "stream",
          "text": [
            "(3,)\n",
            "(2, 3)\n"
          ]
        },
        {
          "data": {
            "text/plain": [
              "array([[1, 2, 3],\n",
              "       [4, 5, 6]])"
            ]
          },
          "execution_count": 3,
          "metadata": {},
          "output_type": "execute_result"
        }
      ],
      "source": [
        "# first we import numpy. Note that as we gonna call numpy again and again\n",
        "# it is convenient to give a short name to like np\n",
        "import numpy as np\n",
        "\n",
        "arr1d = np.array([1,2,3]) # Create a one dimensional array\n",
        "arr2d = np.array( [ [1,2,3] , [4,5,6] ] ) # Create two dimensional array\n",
        "\n",
        "print(arr1d.shape)\n",
        "print(arr2d.shape)\n",
        "arr2d"
      ]
    },
    {
      "cell_type": "markdown",
      "metadata": {
        "id": "9QeZ6axx-oSD"
      },
      "source": [
        "###### Not: An n × m matrix A is a rectangular array of numbers with n rows and m columns."
      ]
    },
    {
      "cell_type": "markdown",
      "metadata": {
        "id": "-GXdVNrSm65v"
      },
      "source": [
        "Numpy also provides many functions to create arrays:"
      ]
    },
    {
      "cell_type": "code",
      "execution_count": null,
      "metadata": {
        "id": "EhstX5fSnD4u",
        "tags": [],
        "outputId": "5c97b8ba-7603-4d18-81d5-a60a84c76c5e"
      },
      "outputs": [
        {
          "name": "stdout",
          "output_type": "stream",
          "text": [
            "[[0. 0.]\n",
            " [0. 0.]]\n",
            "[[1. 1.]]\n",
            "[[7 7]\n",
            " [7 7]]\n",
            "[[1. 0.]\n",
            " [0. 1.]]\n",
            "[[0.95615941 0.61491292]\n",
            " [0.27932074 0.94883533]]\n"
          ]
        }
      ],
      "source": [
        "import numpy as np\n",
        "\n",
        "a = np.zeros((2,2))   # Create an array of all zeros\n",
        "print(a)              # Prints \"[[ 0.  0.]\n",
        "                      #          [ 0.  0.]]\"\n",
        "\n",
        "b = np.ones((1,2))    # Create an array of all ones\n",
        "print(b)              # Prints \"[[ 1.  1.]]\"\n",
        "\n",
        "c = np.full((2,2), 7)  # Create a constant array\n",
        "print(c)               # Prints \"[[ 7.  7.]\n",
        "                       #          [ 7.  7.]]\"\n",
        "\n",
        "d = np.eye(2)         # Create a 2x2 identity matrix\n",
        "print(d)              # Prints \"[[ 1.  0.]\n",
        "                      #          [ 0.  1.]]\"\n",
        "\n",
        "e = np.random.random((2,2))  # Create an array filled with random values\n",
        "print(e)                     # Might print \"[[ 0.91940167  0.08143941]\n",
        "                             #               [ 0.68744134  0.87236687]]\"\n",
        "    "
      ]
    },
    {
      "cell_type": "markdown",
      "metadata": {
        "id": "Z1vak3DjmM0X"
      },
      "source": [
        "### Array indexing"
      ]
    },
    {
      "cell_type": "markdown",
      "metadata": {
        "id": "oZtpmuWamQeX"
      },
      "source": [
        "To access any element(s) in a numpy array we use index, something similar to Python lists with a difference that for each dimension of array we will have one index. For example extracting the second value of the first dimension of the arr2d would be: `arr2d[0,2]`. "
      ]
    },
    {
      "cell_type": "markdown",
      "metadata": {
        "id": "M1kt-5tUn85u"
      },
      "source": [
        "Example:"
      ]
    },
    {
      "cell_type": "code",
      "execution_count": null,
      "metadata": {
        "colab": {
          "base_uri": "https://localhost:8080/"
        },
        "id": "Cvtsn1J6n_j6",
        "outputId": "52f19395-f55a-4780-e9ca-56970e6d3bbc",
        "tags": []
      },
      "outputs": [
        {
          "name": "stdout",
          "output_type": "stream",
          "text": [
            "[[3 7 3 4]\n",
            " [5 6 7 2]\n",
            " [2 1 1 1]]\n",
            "[[7 3]\n",
            " [6 7]]\n"
          ]
        }
      ],
      "source": [
        "import numpy as np\n",
        "\n",
        "# Create the following rank 2 array with shape (3, 4)\n",
        "# [[ 3  7  3  4]\n",
        "#  [ 5  6  7  2]\n",
        "#  [ 2  1  1  1]]\n",
        "a = np.array([[3,7,3,4], [5,6,7,2], [2,1,1,1]])\n",
        "print(a)\n",
        "\n",
        "# Use slicing to pull out the subarray consisting of the first 2 rows\n",
        "# and columns 1 and 2; b is the following array of shape (2, 2):\n",
        "\n",
        "b = a[:2, 1:3]\n",
        "# A slice of an array is a view into the same data, so modifying it\n",
        "# will modify the original array.\n",
        "print(b)"
      ]
    },
    {
      "cell_type": "code",
      "execution_count": null,
      "metadata": {
        "id": "pTCAshms-oSG",
        "outputId": "10620e33-d7ad-4a92-d71a-ba2c3b1833ac"
      },
      "outputs": [
        {
          "name": "stdout",
          "output_type": "stream",
          "text": [
            "7\n"
          ]
        }
      ],
      "source": [
        "print(a[0, 1])   # Prints \"7\""
      ]
    },
    {
      "cell_type": "code",
      "execution_count": null,
      "metadata": {
        "id": "HDQtZGvE-oSG",
        "outputId": "ab0a8726-1a70-4194-a9a9-279ba053901a"
      },
      "outputs": [
        {
          "name": "stdout",
          "output_type": "stream",
          "text": [
            "3\n"
          ]
        }
      ],
      "source": [
        "b[0, 0] = 3     # b[0, 0] is the same piece of data as a[0, 1]\n",
        "print(a[0, 1])   # Prints \"3\""
      ]
    },
    {
      "cell_type": "code",
      "execution_count": null,
      "metadata": {
        "id": "ir5LF8DZ-oSH",
        "outputId": "845e115e-9ba8-4024-b6dc-bab673dbdd48"
      },
      "outputs": [
        {
          "name": "stdout",
          "output_type": "stream",
          "text": [
            "[[3 3]\n",
            " [6 7]]\n"
          ]
        }
      ],
      "source": [
        "print(b)"
      ]
    },
    {
      "cell_type": "markdown",
      "metadata": {
        "id": "bVxSnR8kl8Zo"
      },
      "source": [
        "There are many usefull functions in Numpy. Here we mention some of them."
      ]
    },
    {
      "cell_type": "markdown",
      "metadata": {
        "id": "pjgVfk_2oOFK"
      },
      "source": [
        "append, where, add, random, reshape, vstack, mean, median, std, isnan,"
      ]
    },
    {
      "cell_type": "markdown",
      "metadata": {
        "id": "vJ6QncX-oQGg"
      },
      "source": [
        "### Exercises (numpy)"
      ]
    },
    {
      "cell_type": "markdown",
      "metadata": {
        "id": "khxrA6wooSyS"
      },
      "source": [
        "1- Create a 3×3 numpy null array (all the values are zeros)"
      ]
    },
    {
      "cell_type": "code",
      "execution_count": null,
      "metadata": {
        "id": "QeLPEPlT3o55",
        "outputId": "bc93c1dc-56b3-4613-c1ba-d2307798565b"
      },
      "outputs": [
        {
          "data": {
            "text/plain": [
              "array([[0., 0., 0.],\n",
              "       [0., 0., 0.],\n",
              "       [0., 0., 0.]])"
            ]
          },
          "execution_count": 12,
          "metadata": {},
          "output_type": "execute_result"
        }
      ],
      "source": [
        "np.zeros((3,3))"
      ]
    },
    {
      "cell_type": "markdown",
      "metadata": {
        "id": "kZveceYSoV9W"
      },
      "source": [
        "*2*- Extract all odd numbers from an array \n",
        "\n",
        "hint: input: [0,1,2,3,4,5,6,7] and desired output: [1,3,5,7]"
      ]
    },
    {
      "cell_type": "code",
      "execution_count": null,
      "metadata": {
        "id": "BgoRemFS459K",
        "outputId": "7e2a9c5f-2b31-4e1b-8fb9-925033a46cbf"
      },
      "outputs": [
        {
          "data": {
            "text/plain": [
              "array([1., 3., 5., 7.])"
            ]
          },
          "execution_count": 13,
          "metadata": {},
          "output_type": "execute_result"
        }
      ],
      "source": [
        "x = np.array([0,1,2,3,4,5,6,7])\n",
        "y = np.array([])\n",
        "\n",
        "for i in x:\n",
        "    if i%2!=0:\n",
        "        y = np.append(y, i)\n",
        "    else:\n",
        "        continue\n",
        "y"
      ]
    },
    {
      "cell_type": "markdown",
      "metadata": {
        "id": "joH8PWVvpLbY"
      },
      "source": [
        "3- Convert a 1D array to a 2D array with 2 rows\n",
        "\n",
        "hint: input: [0,1,2,3,4,5,6,7], desired output: array([[0,1,2,3], [4,5,6,7]])"
      ]
    },
    {
      "cell_type": "code",
      "execution_count": null,
      "metadata": {
        "id": "SGOrHvPn86i1",
        "outputId": "bb93c64d-b9e3-497b-c4d5-bdf2b0f04e7d"
      },
      "outputs": [
        {
          "data": {
            "text/plain": [
              "array([[0, 1, 2, 3],\n",
              "       [4, 5, 6, 7]])"
            ]
          },
          "execution_count": 14,
          "metadata": {},
          "output_type": "execute_result"
        }
      ],
      "source": [
        "x = np.array([0,1,2,3,4,5,6,7])\n",
        "new_column = int(len(x)/2)\n",
        "x.reshape(2,new_column) # it gives an output, but does not rewrite the object of x\n",
        "\n",
        "#OR x = np.reshape(x,(2,new_column))\n",
        "#OR x = np.reshape(x,(2,-1)) the unspecified value is inferred by the program"
      ]
    },
    {
      "cell_type": "markdown",
      "metadata": {
        "id": "4Y4bZOo7psbY"
      },
      "source": [
        "4- Stack arrays `first_array` and `second_array` vertically.\n",
        "```\n",
        "first_array = np.arange(10).reshape(2,-1)\n",
        "second_array = np.repeat(1, 10).reshape(2,-1)\n",
        "```"
      ]
    },
    {
      "cell_type": "code",
      "execution_count": null,
      "metadata": {
        "id": "pkOUbP2D9K88",
        "outputId": "1649465f-15a9-4bbc-b967-ae370a238c21"
      },
      "outputs": [
        {
          "name": "stdout",
          "output_type": "stream",
          "text": [
            "[0 1 2 3 4 5 6 7 8 9]\n",
            "[[0 1 2 3 4]\n",
            " [5 6 7 8 9]]\n"
          ]
        }
      ],
      "source": [
        "first_array = np.arange(10)\n",
        "print(first_array)\n",
        "first_array = first_array.reshape(2,-1)\n",
        "print(first_array)"
      ]
    },
    {
      "cell_type": "code",
      "execution_count": null,
      "metadata": {
        "id": "Lj5c69qZ-oSK",
        "outputId": "9ec9bd8d-3c93-44c8-b3da-6d900536a54f"
      },
      "outputs": [
        {
          "name": "stdout",
          "output_type": "stream",
          "text": [
            "[1 1 1 1 1 1 1 1 1 1]\n",
            "[[1 1 1 1 1]\n",
            " [1 1 1 1 1]]\n"
          ]
        }
      ],
      "source": [
        "second_array = np.repeat(1, 10)\n",
        "print(second_array)\n",
        "second_array = second_array.reshape(2,-1)\n",
        "print(second_array)"
      ]
    },
    {
      "cell_type": "code",
      "execution_count": null,
      "metadata": {
        "id": "UFpnvVYY-oSK",
        "outputId": "0863048d-e50a-4bb9-9641-5194ab51084b"
      },
      "outputs": [
        {
          "name": "stdout",
          "output_type": "stream",
          "text": [
            "[0 1 2 3 4 5 6 7 8 9 1 1 1 1 1 1 1 1 1 1]\n"
          ]
        }
      ],
      "source": [
        "stack = np.append(first_array, second_array)\n",
        "print(stack)"
      ]
    },
    {
      "cell_type": "code",
      "execution_count": null,
      "metadata": {
        "id": "1s03KA4F-oSK",
        "outputId": "56a20079-bcc2-4962-ba80-7a6c8fb05a34"
      },
      "outputs": [
        {
          "name": "stdout",
          "output_type": "stream",
          "text": [
            "[[0 1 2 3 4]\n",
            " [5 6 7 8 9]\n",
            " [1 1 1 1 1]\n",
            " [1 1 1 1 1]]\n"
          ]
        }
      ],
      "source": [
        "stack = np.reshape(stack,(4,5))\n",
        "print(stack)"
      ]
    },
    {
      "cell_type": "markdown",
      "metadata": {
        "id": "OgUEFx-Yqnah"
      },
      "source": [
        "5- Get all items between 5 and 10 from a.\n",
        "\n",
        "```\n",
        "a = np.arange(0,15,2)\n",
        "```"
      ]
    },
    {
      "cell_type": "code",
      "execution_count": null,
      "metadata": {
        "id": "Jff4uRae94hQ",
        "outputId": "1c7c72de-7b8c-433b-8b9f-d582a978dcbb"
      },
      "outputs": [
        {
          "name": "stdout",
          "output_type": "stream",
          "text": [
            "[ 0  2  4  6  8 10 12 14]\n",
            "[6. 8.]\n"
          ]
        }
      ],
      "source": [
        "a = np.arange(0,15,2)\n",
        "b = np.array([])\n",
        "print(a)\n",
        "for i in a:\n",
        "    if i < 10 and i > 5:\n",
        "        b = np.append(b,i)\n",
        "        \n",
        "print(b)"
      ]
    },
    {
      "cell_type": "markdown",
      "metadata": {
        "id": "KoaBySONrqFU"
      },
      "source": [
        "6- Find the mean, median and standard deviation of a."
      ]
    },
    {
      "cell_type": "code",
      "execution_count": null,
      "metadata": {
        "id": "3MPbE8VB-eX1",
        "outputId": "963016d0-5768-46fa-ce15-33556f0c7c1a"
      },
      "outputs": [
        {
          "name": "stdout",
          "output_type": "stream",
          "text": [
            "7.0\n",
            "7.0\n",
            "4.58257569495584\n"
          ]
        }
      ],
      "source": [
        "print(np.mean(a))\n",
        "print(np.median(a))\n",
        "print(np.std(a))"
      ]
    },
    {
      "cell_type": "markdown",
      "metadata": {
        "id": "4Vm4dynZrv3f"
      },
      "source": [
        "```\n",
        "a = np.random.rand(1000)\n",
        "```"
      ]
    },
    {
      "cell_type": "markdown",
      "metadata": {
        "id": "G2JRKJKKDzuN"
      },
      "source": [
        "7- What are the indices of `a` (in exercise 6) which are more than 0.5. Define these indices in a new variable called `idx`."
      ]
    },
    {
      "cell_type": "code",
      "execution_count": null,
      "metadata": {
        "id": "lFHjJ4lc-1Uv",
        "outputId": "ec78e9cf-1ce4-4d89-9403-077759ba79ce"
      },
      "outputs": [
        {
          "name": "stdout",
          "output_type": "stream",
          "text": [
            "511\n"
          ]
        }
      ],
      "source": [
        "a = np.random.rand(1000)\n",
        "idx = np.array([])\n",
        "\n",
        "for i in range(len(a)):\n",
        "    ele = a[i]\n",
        "    if ele > 0.5:\n",
        "        idx = np.append(idx,i)\n",
        "\n",
        "print(len(idx))"
      ]
    },
    {
      "cell_type": "markdown",
      "metadata": {
        "id": "oZ8zKPDZDzuN"
      },
      "source": [
        "8- Reverse a vector (first element becomes last)."
      ]
    },
    {
      "cell_type": "code",
      "execution_count": null,
      "metadata": {
        "id": "tit_6zsy_64o",
        "outputId": "e7ca64dd-4baa-4b3b-fe9e-74e4b80b0d8c"
      },
      "outputs": [
        {
          "data": {
            "text/plain": [
              "array([7, 6, 5, 4, 3, 2, 1, 0])"
            ]
          },
          "execution_count": 22,
          "metadata": {},
          "output_type": "execute_result"
        }
      ],
      "source": [
        "x = np.array([0, 1, 2, 3, 4, 5, 6, 7])\n",
        "\n",
        "rev = np.flip(x)\n",
        "rev"
      ]
    },
    {
      "cell_type": "code",
      "execution_count": null,
      "metadata": {
        "id": "SX79aZE1-oSO",
        "outputId": "3e57ea58-2e62-4a9e-c43b-f171f9ce83e8"
      },
      "outputs": [
        {
          "data": {
            "text/plain": [
              "array([7, 6, 5, 4, 3, 2, 1, 0])"
            ]
          },
          "execution_count": 23,
          "metadata": {},
          "output_type": "execute_result"
        }
      ],
      "source": [
        "# OR\n",
        "\n",
        "x[::-1]"
      ]
    },
    {
      "cell_type": "markdown",
      "metadata": {
        "id": "B_WZEIT-DzuN"
      },
      "source": [
        "9- Create random vector of size 10 and replace the maximum value by 0."
      ]
    },
    {
      "cell_type": "code",
      "execution_count": null,
      "metadata": {
        "id": "DiJoZ6OfAVb6",
        "outputId": "0833f6ad-7ebd-4c2c-fd1b-fd947367d333"
      },
      "outputs": [
        {
          "name": "stdout",
          "output_type": "stream",
          "text": [
            "[0.3632193  0.0516052  0.24922099 0.37415182 0.15266115 0.85656779\n",
            " 0.42105046 0.30314132 0.33285073 0.61594686]\n"
          ]
        }
      ],
      "source": [
        "vector = np.random.rand(10)\n",
        "print(vector)"
      ]
    },
    {
      "cell_type": "code",
      "execution_count": null,
      "metadata": {
        "id": "GpVYiajP-oSP",
        "outputId": "e6092ec6-6636-4e0d-9506-f72e5275d902"
      },
      "outputs": [
        {
          "name": "stdout",
          "output_type": "stream",
          "text": [
            "5\n"
          ]
        }
      ],
      "source": [
        "print(np.argmax(vector))"
      ]
    },
    {
      "cell_type": "code",
      "execution_count": null,
      "metadata": {
        "id": "gSRXsoBY-oSP",
        "outputId": "f67711df-df44-4fd4-8383-fceff64123f0"
      },
      "outputs": [
        {
          "name": "stdout",
          "output_type": "stream",
          "text": [
            "[0.3632193  0.0516052  0.24922099 0.37415182 0.         0.15266115\n",
            " 0.85656779 0.42105046 0.30314132 0.33285073 0.61594686]\n"
          ]
        }
      ],
      "source": [
        "vector_rev=np.insert(vector, 4, 0)\n",
        "print(vector_rev)"
      ]
    },
    {
      "cell_type": "code",
      "execution_count": null,
      "metadata": {
        "id": "dkCcWOWP-oSP",
        "outputId": "68f64fcf-6aa5-4f66-b165-70a880e913e2"
      },
      "outputs": [
        {
          "name": "stdout",
          "output_type": "stream",
          "text": [
            "[0.3632193  0.0516052  0.24922099 0.37415182 0.         0.15266115\n",
            " 0.         0.85656779 0.42105046 0.30314132 0.33285073 0.61594686]\n"
          ]
        }
      ],
      "source": [
        "vector_rev2=np.insert(vector_rev,np.argmax(vector_rev),0)\n",
        "print(vector_rev2)"
      ]
    },
    {
      "cell_type": "markdown",
      "metadata": {
        "id": "aeTjuLwVDzuN"
      },
      "source": [
        "10- Subtract the mean of each row of a matrix."
      ]
    },
    {
      "cell_type": "code",
      "execution_count": null,
      "metadata": {
        "id": "aNoCG85bOMmF",
        "outputId": "2ca54028-7c1a-4290-a455-936a43de5686"
      },
      "outputs": [
        {
          "name": "stdout",
          "output_type": "stream",
          "text": [
            "[[0.3632193  0.0516052  0.24922099 0.37415182 0.15266115]\n",
            " [0.85656779 0.42105046 0.30314132 0.33285073 0.61594686]]\n"
          ]
        }
      ],
      "source": [
        "x = np.reshape(vector,(2,5))\n",
        "print(x)"
      ]
    },
    {
      "cell_type": "code",
      "execution_count": null,
      "metadata": {
        "id": "yT7TkXjw-oSQ",
        "outputId": "76cae740-9cf4-4188-82a9-cba8cfa6c25b"
      },
      "outputs": [
        {
          "name": "stdout",
          "output_type": "stream",
          "text": [
            "0.37204156327521226\n",
            "[0.23817169 0.50591143]\n"
          ]
        }
      ],
      "source": [
        "mean = np.mean(x)\n",
        "\n",
        "print(mean)\n",
        "\n",
        "row_means = np.mean(x, 1) #second argument of mean function present the axis rows = 1, columns = 0 always \n",
        "print(row_means)"
      ]
    },
    {
      "cell_type": "code",
      "execution_count": null,
      "metadata": {
        "id": "BM4jQLvR-oSQ",
        "outputId": "91172d2f-2083-4a11-f07e-2262fb3eb569"
      },
      "outputs": [
        {
          "name": "stdout",
          "output_type": "stream",
          "text": [
            "[0.60989354 0.23632783 0.27618116 0.35350128 0.38430401]\n"
          ]
        }
      ],
      "source": [
        "column_means = np.mean(x, 0)\n",
        "print(column_means)"
      ]
    },
    {
      "cell_type": "code",
      "execution_count": null,
      "metadata": {
        "id": "7hIo1Q2g-oSQ",
        "outputId": "73d4ee94-efab-4d56-aa26-287b64f3f5bc"
      },
      "outputs": [
        {
          "data": {
            "text/plain": [
              "array([[0.23817169, 0.23817169, 0.23817169, 0.23817169, 0.23817169],\n",
              "       [0.50591143, 0.50591143, 0.50591143, 0.50591143, 0.50591143]])"
            ]
          },
          "execution_count": 34,
          "metadata": {},
          "output_type": "execute_result"
        }
      ],
      "source": [
        "row_means_array = np.repeat(row_means, 5).reshape(2,5)\n",
        "row_means_array"
      ]
    },
    {
      "cell_type": "code",
      "execution_count": null,
      "metadata": {
        "id": "OYEQLfpg-oSQ",
        "outputId": "fa2e978f-e1d9-4dc3-c656-6a7a99bf003b"
      },
      "outputs": [
        {
          "name": "stdout",
          "output_type": "stream",
          "text": [
            "[[ 0.12504761 -0.18656649  0.0110493   0.13598013 -0.08551054]\n",
            " [ 0.35065636 -0.08486097 -0.20277011 -0.17306071  0.11003543]]\n"
          ]
        }
      ],
      "source": [
        "final = x - row_means_array\n",
        "print(final)"
      ]
    },
    {
      "cell_type": "markdown",
      "metadata": {
        "id": "Lp40FFAXDzuN"
      },
      "source": [
        "11- Based on worldometers.info website, the world population on 17th of February 2019 at 11:00 am is ~7684621550 and the average growth rate per day is ~107000. \n",
        "```\n",
        "# World population\n",
        "world_pop = 7684621550\n",
        "# average growth rate per day\n",
        "growth_rate = 107000\n",
        "```\n",
        "Create an array (call it: `world_pop_arr`) which shows the world population from 17th of February until 26th of February. Now create a dictionary with all these information and save the dictionary into a file using `numpy.save`.\n"
      ]
    },
    {
      "cell_type": "code",
      "execution_count": null,
      "metadata": {
        "id": "V6LpLjadRSx2",
        "outputId": "71c8025f-18f2-4c18-e21e-d822da0566d2"
      },
      "outputs": [
        {
          "name": "stdout",
          "output_type": "stream",
          "text": [
            "[7684621550 7684728550 7684835550 7684942550 7685049550 7685156550\n",
            " 7685263550 7685370550 7685477550 7685584550]\n",
            "[17 18 19 20 21 22 23 24 25 26]\n",
            "{17: 7684621550, 18: 7684728550, 19: 7684835550, 20: 7684942550, 21: 7685049550, 22: 7685156550, 23: 7685263550, 24: 7685370550, 25: 7685477550, 26: 7685584550}\n"
          ]
        }
      ],
      "source": [
        "world_pop_arr=([7684621550])\n",
        "\n",
        "day_arr=([17])\n",
        "\n",
        "total_day=(26-17)+1\n",
        "\n",
        "world_pop = 7684621550\n",
        "\n",
        "growth_rate = 107000\n",
        "\n",
        "day_of_month=17\n",
        "\n",
        "for i in range(1,total_day):\n",
        "    world_pop = growth_rate + world_pop\n",
        "    world_pop_arr = np.append(world_pop_arr, world_pop)\n",
        "\n",
        "for i in range(1,total_day):\n",
        "    day_of_month = day_of_month + 1\n",
        "    day_arr=np.append(day_arr, day_of_month)\n",
        "\n",
        "print(world_pop_arr)\n",
        "print(day_arr)\n",
        "\n",
        "my_dict=dict(zip(day_arr, world_pop_arr)) \n",
        "\n",
        "print(my_dict)\n",
        "\n",
        "np.save(\"example_dictionary.npy\", my_dict)"
      ]
    },
    {
      "cell_type": "markdown",
      "metadata": {
        "id": "yJBVmOhm-oSR"
      },
      "source": [
        "###### Not: the zip() function returns a zip object, which is an iterator of tuples where the first item in each passed iterator is paired together, and then the second item in each passed iterator are paired together etc."
      ]
    },
    {
      "cell_type": "markdown",
      "metadata": {
        "id": "5-DPDMibDzuN"
      },
      "source": [
        "12- Write a time_resolved function for an arbitrary array and an arbitrary step (or window size) that you define."
      ]
    },
    {
      "cell_type": "markdown",
      "metadata": {
        "id": "lOHyqZND-oSR"
      },
      "source": [
        "The function will take three objects as inputs:\n",
        "`time_resolved(arr, w_size, shift)`\n",
        "\n",
        "When I ask python to print `time_resolved(arr,3,4)` for `arr=np.array([1,2,6,4,5,4,2,7,8,9])`,\n",
        "I expect to see `[4, 5, 4]` as the output of this function."
      ]
    },
    {
      "cell_type": "code",
      "execution_count": null,
      "metadata": {
        "id": "A7EZnFEzgeXT",
        "outputId": "d3b2aad9-7700-41cb-8630-ce7b9425d6bd"
      },
      "outputs": [
        {
          "data": {
            "text/plain": [
              "array([4., 5., 4.])"
            ]
          },
          "execution_count": 39,
          "metadata": {},
          "output_type": "execute_result"
        }
      ],
      "source": [
        "def time_resolved(arr, w_size, shift):\n",
        "    sub_arr = np.array([])\n",
        "    for i in range(shift-1, w_size + shift-1):\n",
        "        sub_arr = np.append(sub_arr, arr[i])\n",
        "    \n",
        "    return sub_arr\n",
        "\n",
        "arr=np.array([1,2,6,4,5,4,2,7,8,9])\n",
        "time_resolved(arr, 3, 4)"
      ]
    },
    {
      "cell_type": "markdown",
      "metadata": {
        "id": "qJLrJFseWDVh"
      },
      "source": [
        "## Matplotlib"
      ]
    },
    {
      "cell_type": "markdown",
      "metadata": {
        "id": "zj_m17tLW9ev"
      },
      "source": [
        "Visualization is one of the most important segments of data analysis. It allows us visual access to huge amounts of data in a simple and powerful way. The core library in Python used for visualization is matplotlib. Matplotlib development started with the idea of emulating Matlab commands in Python. By importing the following module,\n",
        "```\n",
        "import matplotlib.pyplot as plt\n",
        "```\n",
        "one will have access to many functions which are similar to Matlab function for plotting. Let's create some simple plots to learn the important syntaxes."
      ]
    },
    {
      "cell_type": "code",
      "execution_count": null,
      "metadata": {
        "colab": {
          "base_uri": "https://localhost:8080/",
          "height": 297
        },
        "id": "kaGlR2GEZyAL",
        "outputId": "ae18e656-0bd7-4de4-acbf-aa352160a753"
      },
      "outputs": [
        {
          "data": {
            "image/png": "[encoded data removed]",
            "text/plain": [
              "<Figure size 640x480 with 1 Axes>"
            ]
          },
          "metadata": {},
          "output_type": "display_data"
        }
      ],
      "source": [
        "import matplotlib.pyplot as plt \n",
        "\n",
        "# data to be plotted\n",
        "X = [1,2,3,4]\n",
        "Y = [10,22,30,40]\n",
        "\n",
        "# plot \n",
        "plt.plot(X, Y, 'b-o')\n",
        "# define xlabel\n",
        "plt.xlabel('X label')\n",
        "# define ylabel\n",
        "plt.ylabel('Y label')\n",
        "# show the plotted figure\n",
        "plt.show()"
      ]
    },
    {
      "cell_type": "markdown",
      "metadata": {
        "id": "k0cjiFFea8OJ"
      },
      "source": [
        "Check the following code and the produced figures. Can you tell what each line of code is doing? "
      ]
    },
    {
      "cell_type": "code",
      "execution_count": null,
      "metadata": {
        "colab": {
          "base_uri": "https://localhost:8080/",
          "height": 300
        },
        "id": "z7WaNnacaytl",
        "outputId": "2b09afd7-11bd-4ef8-edc4-77eb2e5816a6"
      },
      "outputs": [
        {
          "data": {
            "image/png": "[encoded data removed]",
            "text/plain": [
              "<Figure size 640x480 with 1 Axes>"
            ]
          },
          "metadata": {},
          "output_type": "display_data"
        }
      ],
      "source": [
        "import numpy as np\n",
        "import matplotlib.pyplot as plt\n",
        "\n",
        "# evenly sampled time at 200ms intervals\n",
        "t = np.arange(0., 5., 0.2)\n",
        "\n",
        "# red dashes, blue squares and green triangles\n",
        "plt.plot(t, t, 'r', label='line one', linewidth=5)\n",
        "plt.plot(t, t**2, 'b^',label='line two', linewidth=2)\n",
        "plt.plot(t,t**3, 'g-^', label='marker', markersize = 4)\n",
        "plt.legend()\n",
        "plt.grid(True, color='k')\n",
        "plt.show()"
      ]
    },
    {
      "cell_type": "code",
      "execution_count": null,
      "metadata": {
        "colab": {
          "base_uri": "https://localhost:8080/",
          "height": 376
        },
        "id": "g7GUwfxIccxn",
        "outputId": "f5d4d6ed-2f17-4cbb-bd6e-2c6b92d2e6e2"
      },
      "outputs": [
        {
          "data": {
            "image/png": "[encoded data removed]",
            "text/plain": [
              "<Figure size 640x480 with 1 Axes>"
            ]
          },
          "metadata": {},
          "output_type": "display_data"
        }
      ],
      "source": [
        "import matplotlib.pyplot as plt\n",
        "population_age = [22,55,62,45,21,22,34,42,42,4,2,102,95,85,55,110,120,70,65,55,111,115,80,75,65,54,44,43,42,48]\n",
        "bins = [0,10,20,30,40,50,60,70,80,90,100]\n",
        "plt.hist(population_age, bins, histtype='bar', rwidth=0.5)\n",
        "plt.xlabel('age groups')\n",
        "plt.ylabel('Number of people')\n",
        "plt.title('Histogram')\n",
        "plt.show()"
      ]
    },
    {
      "cell_type": "markdown",
      "metadata": {
        "id": "ZNzGhKI0ce1o"
      },
      "source": [
        "What you tried to do with the last two figures is the best way of learning matplotlib syntaxes and produces whatever figure you like. Probably you did the following: Checking the figure axes, colors, lines, labels, bars, etc and trying to figure out the line in the code responsible for that feature. This is a very efficient way to create figures and add whatever details you like. One of the best collections for these examples can be found at the following link:\n",
        "\n",
        "[https://matplotlib.org/gallery.html](https://matplotlib.org/gallery.html )\n",
        "\n",
        "Click on the link and find the figure you are interested in and check the code for that figure.\n",
        "\n",
        "As a good exercise try to find out how one can plot multiple subplots in one plot?\n"
      ]
    },
    {
      "cell_type": "markdown",
      "metadata": {
        "id": "yBxEwwDutA65"
      },
      "source": [
        "### Exercises (matplotlib)"
      ]
    },
    {
      "cell_type": "markdown",
      "metadata": {
        "id": "EfGLmmLftDyD"
      },
      "source": [
        "1- Plot two or more lines with legends, different widths and colors."
      ]
    },
    {
      "cell_type": "code",
      "execution_count": null,
      "metadata": {
        "id": "Fr76zhy0ZfRZ",
        "outputId": "d5e2ace9-02ab-4cdb-eb30-702842e1205a"
      },
      "outputs": [
        {
          "data": {
            "text/plain": [
              "<function matplotlib.pyplot.show(close=None, block=None)>"
            ]
          },
          "execution_count": 16,
          "metadata": {},
          "output_type": "execute_result"
        },
        {
          "data": {
            "image/png": "[encoded data removed]",
            "text/plain": [
              "<Figure size 640x480 with 1 Axes>"
            ]
          },
          "metadata": {},
          "output_type": "display_data"
        }
      ],
      "source": [
        "import matplotlib.pyplot as plt \n",
        "\n",
        "# data to be plotted\n",
        "X = [1,2,3,4]\n",
        "Y = [10,22,30,40]\n",
        "Z = [3,5,7,9]\n",
        "Q = [3,15,27,39]\n",
        "\n",
        "plt.plot(X, Y, 'r-o', linewidth=2)\n",
        "plt.plot(X, Z, 'k-2', linewidth=3)\n",
        "plt.plot(X, Q, 'g-+', linewidth=3)\n",
        "# define xlabel\n",
        "plt.xlabel('X label',)\n",
        "# define ylabel\n",
        "plt.ylabel('Y label')\n",
        "plt.show"
      ]
    },
    {
      "cell_type": "markdown",
      "metadata": {
        "id": "o5oJ01hbJ41p"
      },
      "source": [
        "2- Plot two or more lines with different styles."
      ]
    },
    {
      "cell_type": "code",
      "execution_count": null,
      "metadata": {
        "id": "T5GoUJv4bc8u"
      },
      "outputs": [],
      "source": []
    },
    {
      "cell_type": "markdown",
      "metadata": {
        "id": "aPlCltQhDzuP"
      },
      "source": [
        "3- Choose one of your favorite plots from matplotlib gallery and explain the script for that plot to your teammate."
      ]
    },
    {
      "cell_type": "code",
      "execution_count": null,
      "metadata": {
        "id": "DLqAB2W7bfzN"
      },
      "outputs": [],
      "source": []
    },
    {
      "cell_type": "markdown",
      "metadata": {
        "id": "q4K7S1SKDzuP"
      },
      "source": [
        "4- Generate random values from 0 to 1000 and plot these values. For the color of the plot, choose blue color for the values below 500 and red for those above 500."
      ]
    },
    {
      "cell_type": "code",
      "execution_count": null,
      "metadata": {
        "id": "lmHAqf5VcUT1"
      },
      "outputs": [],
      "source": []
    },
    {
      "cell_type": "markdown",
      "metadata": {
        "id": "IowaKFfUDzuP"
      },
      "source": [
        "5- For the random values generated in the exercise 4, create a new plot where you put a marker or a dot wherever the value is above 800."
      ]
    },
    {
      "cell_type": "code",
      "execution_count": null,
      "metadata": {
        "id": "E8g51f3c-oST"
      },
      "outputs": [],
      "source": []
    },
    {
      "cell_type": "markdown",
      "metadata": {
        "id": "-1S3cD0dDzuP"
      },
      "source": [
        "6- For the random values generated in exercise 4, create a histogram (in a new plot) with appropriate bin size."
      ]
    },
    {
      "cell_type": "code",
      "execution_count": null,
      "metadata": {
        "id": "chIhbnHm-oST"
      },
      "outputs": [],
      "source": []
    },
    {
      "cell_type": "markdown",
      "metadata": {
        "id": "PY0dA5cFDzuQ"
      },
      "source": [
        "7- Now apply the time_resolved analysis function that you wrote during numpy exercise on the data from exercise 4 and plot it in a new plot."
      ]
    },
    {
      "cell_type": "code",
      "execution_count": null,
      "metadata": {
        "id": "3mJlf0PR5X_G"
      },
      "outputs": [],
      "source": []
    },
    {
      "cell_type": "markdown",
      "metadata": {
        "id": "rNAwbkytDzuQ"
      },
      "source": [
        "8- Now put the plots from exercise 4 to 7 in one plot by using `plt.subplot`."
      ]
    },
    {
      "cell_type": "code",
      "execution_count": null,
      "metadata": {
        "id": "yLSFgv_kDzuQ"
      },
      "outputs": [],
      "source": []
    }
  ],
  "metadata": {
    "colab": {
      "collapsed_sections": [],
      "provenance": [],
      "include_colab_link": true
    },
    "kernelspec": {
      "display_name": "Python 3 (ipykernel)",
      "language": "python",
      "name": "python3"
    },
    "language_info": {
      "codemirror_mode": {
        "name": "ipython",
        "version": 3
      },
      "file_extension": ".py",
      "mimetype": "text/x-python",
      "name": "python",
      "nbconvert_exporter": "python",
      "pygments_lexer": "ipython3",
      "version": "3.9.10+"
    }
  },
  "nbformat": 4,
  "nbformat_minor": 0
}